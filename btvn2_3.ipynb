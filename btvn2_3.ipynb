{
  "nbformat": 4,
  "nbformat_minor": 0,
  "metadata": {
    "colab": {
      "name": "btvn2_3",
      "provenance": [],
      "collapsed_sections": [],
      "authorship_tag": "ABX9TyNZiQ07OaEvI5VzGEH1EF1Q",
      "include_colab_link": true
    },
    "kernelspec": {
      "name": "python3",
      "display_name": "Python 3"
    },
    "language_info": {
      "name": "python"
    },
    "accelerator": "GPU"
  },
  "cells": [
    {
      "cell_type": "markdown",
      "metadata": {
        "id": "view-in-github",
        "colab_type": "text"
      },
      "source": [
        "<a href=\"https://colab.research.google.com/github/PhanDinhPhong/BTVN2/blob/main/btvn2_3.ipynb\" target=\"_parent\"><img src=\"https://colab.research.google.com/assets/colab-badge.svg\" alt=\"Open In Colab\"/></a>"
      ]
    },
    {
      "cell_type": "code",
      "execution_count": null,
      "metadata": {
        "colab": {
          "base_uri": "https://localhost:8080/"
        },
        "id": "a_l8EnYb2osz",
        "outputId": "85093fb3-80cc-4c9b-d83e-ffc4b4c27c93"
      },
      "outputs": [
        {
          "output_type": "execute_result",
          "data": {
            "text/plain": [
              "(6480, 2)"
            ]
          },
          "metadata": {},
          "execution_count": 1
        }
      ],
      "source": [
        "from keras.models import Sequential\n",
        "from sklearn.preprocessing import scale\n",
        "from sklearn.preprocessing import StandardScaler\n",
        "from tensorflow.keras import datasets, layers, models\n",
        "from tensorflow.keras.optimizers import Adam, RMSprop\n",
        "from keras.layers import Dense, Activation, Dropout,Flatten\n",
        "from sklearn.utils import shuffle\n",
        "import cv2\n",
        "import math\n",
        "import csv\n",
        "import pickle\n",
        "import sklearn\n",
        "import numpy as np\n",
        "import pandas as pd\n",
        "import tensorflow as tf\n",
        "from tensorflow import keras\n",
        "import matplotlib.pyplot as plt\n",
        "from keras.utils import np_utils\n",
        "from tensorflow.keras.utils import to_categorical \n",
        "from sklearn.linear_model import Perceptron\n",
        "from sklearn.model_selection import train_test_split\n",
        "from sklearn.metrics import accuracy_score\n",
        "\n",
        "l1 = 50\n",
        "l2 = 40 \n",
        "l3 = 20\n",
        "z = []\n",
        "for t1 in range(0,180,2):\n",
        "  for t2 in range(0,180,2):\n",
        "    t3 = 90 - t1 - t2\n",
        "    x=l1*math.cos(math.radians(t1)) + l2*math.cos(math.radians(t1+t2)) + l3*math.cos(math.radians(t1+t2 +t3))\n",
        "    y=l1*math.sin(math.radians(t1)) + l2*math.sin(math.radians(t1+t2)) + l3*math.sin(math.radians(t1+t2 +t3))\n",
        "    \n",
        "    t1 = t1/180\n",
        "    t2 = t2/180\n",
        "    t3 = (t3 + 180.0)/270.0\n",
        "    x = (x + 110)/220\n",
        "    y = (y + 110)/220\n",
        "    z.append(np.array((t1,t2,t3,x,y)))\n",
        "\n",
        "label = ['theta1', 'theta2','theta3', 'x', 'y']\n",
        "with open('robot3bac.csv', 'w', encoding='UTF8', newline='') as f:\n",
        "    writer = csv.writer(f)\n",
        "    writer.writerow(label)\n",
        "    writer.writerows(z)\n",
        "data = pd.read_csv('robot3bac.csv')\n",
        "numpy_dataset = data.values\n",
        "y=numpy_dataset[:,:3]\n",
        "x=numpy_dataset[:,3:]\n",
        "x_train,x_test,y_train,y_test = train_test_split(x,y,test_size = 0.2)\n",
        "x_train.shape"
      ]
    },
    {
      "cell_type": "code",
      "source": [
        "model = Sequential() \n",
        "model.add(Dense(256, activation='relu', input_shape = (2,))) \n",
        "model.add(Dense(128, activation='relu'))\n",
        "model.add(Dense(64, activation='relu'))\n",
        "model.add(Dense(32, activation='relu'))\n",
        "model.add(Dense(3))\n",
        "\n",
        "model.compile(loss='mse', optimizer =Adam(), metrics=['accuracy'])\n",
        "history = model.fit(x_train, y_train, batch_size = 32, epochs = 10, validation_split = 0.2)"
      ],
      "metadata": {
        "colab": {
          "base_uri": "https://localhost:8080/"
        },
        "id": "o4ExV7rf3K4k",
        "outputId": "754c8fa5-d2ae-453c-ec07-9e2d9f4d7f82"
      },
      "execution_count": null,
      "outputs": [
        {
          "output_type": "stream",
          "name": "stdout",
          "text": [
            "Epoch 1/10\n",
            "162/162 [==============================] - 2s 6ms/step - loss: 0.0364 - accuracy: 0.7473 - val_loss: 0.0082 - val_accuracy: 0.9398\n",
            "Epoch 2/10\n",
            "162/162 [==============================] - 0s 3ms/step - loss: 0.0035 - accuracy: 0.9533 - val_loss: 0.0017 - val_accuracy: 0.9699\n",
            "Epoch 3/10\n",
            "162/162 [==============================] - 0s 3ms/step - loss: 5.2693e-04 - accuracy: 0.9892 - val_loss: 5.5467e-04 - val_accuracy: 0.9907\n",
            "Epoch 4/10\n",
            "162/162 [==============================] - 0s 3ms/step - loss: 2.7763e-04 - accuracy: 0.9882 - val_loss: 4.1237e-04 - val_accuracy: 1.0000\n",
            "Epoch 5/10\n",
            "162/162 [==============================] - 1s 3ms/step - loss: 2.1417e-04 - accuracy: 0.9888 - val_loss: 4.3683e-04 - val_accuracy: 1.0000\n",
            "Epoch 6/10\n",
            "162/162 [==============================] - 1s 3ms/step - loss: 2.4085e-04 - accuracy: 0.9888 - val_loss: 3.5116e-04 - val_accuracy: 1.0000\n",
            "Epoch 7/10\n",
            "162/162 [==============================] - 0s 3ms/step - loss: 1.7219e-04 - accuracy: 0.9929 - val_loss: 2.5336e-04 - val_accuracy: 1.0000\n",
            "Epoch 8/10\n",
            "162/162 [==============================] - 0s 3ms/step - loss: 1.4232e-04 - accuracy: 0.9936 - val_loss: 2.4780e-04 - val_accuracy: 0.9846\n",
            "Epoch 9/10\n",
            "162/162 [==============================] - 0s 3ms/step - loss: 1.6402e-04 - accuracy: 0.9921 - val_loss: 2.1338e-04 - val_accuracy: 1.0000\n",
            "Epoch 10/10\n",
            "162/162 [==============================] - 1s 3ms/step - loss: 1.2821e-04 - accuracy: 0.9927 - val_loss: 1.9080e-04 - val_accuracy: 0.9846\n"
          ]
        }
      ]
    },
    {
      "cell_type": "code",
      "source": [
        "pd.DataFrame(history.history).plot(figsize = (8,5))\n",
        "plt.grid(True)\n",
        "plt.gca().set_ylim(0,1)\n",
        "plt.show()\n",
        "plt.plot(history.history['accuracy'])\n",
        "plt.plot(history.history['val_accuracy'])\n",
        "plt.title('model accuracy')\n",
        "plt.ylabel('accuracy')\n",
        "plt.xlabel('epoch')\n",
        "plt.legend(['train', 'validation'])\n",
        "plt.show()"
      ],
      "metadata": {
        "colab": {
          "base_uri": "https://localhost:8080/",
          "height": 602
        },
        "id": "tP6CJIpg5HDT",
        "outputId": "d805b73c-c3e9-4e2c-9e92-56c5697826bb"
      },
      "execution_count": null,
      "outputs": [
        {
          "output_type": "display_data",
          "data": {
            "text/plain": [
              "<Figure size 576x360 with 1 Axes>"
            ],
            "image/png": "[encoded data removed]"
          },
          "metadata": {
            "needs_background": "light"
          }
        },
        {
          "output_type": "display_data",
          "data": {
            "text/plain": [
              "<Figure size 432x288 with 1 Axes>"
            ],
            "image/png": "[encoded data removed]"
          },
          "metadata": {
            "needs_background": "light"
          }
        }
      ]
    },
    {
      "cell_type": "code",
      "source": [
        "Px_testtrain = 60\n",
        "Py_testtrain = 30\n",
        "print(Px_testtrain,Py_testtrain)\n",
        "ktra = model.predict([[Px_testtrain,Py_testtrain]])\n",
        "t1 = ktra[0][0]\n",
        "t2 = ktra[0][1]\n",
        "t3 = ktra[0][2]\n",
        "X = l1*math.cos(math.radians(t1)) +l2*math.cos(math.radians(t1+t2)) +l3*math.cos(math.radians(t1+t2+t3))\n",
        "Y = l1*math.sin(math.radians(t1)) +l2*math.sin(math.radians(t1+t2)) +l3*math.sin(math.radians(t1+t2+t3))\n",
        "print('x = ',X,'\\n y = ',Y)\n",
        "print('Góc t1 = ', t1,'\\nGóc t2 = ', t2, '\\nGóc t3 = ', t3)"
      ],
      "metadata": {
        "colab": {
          "base_uri": "https://localhost:8080/"
        },
        "id": "BEwRKwf35QXx",
        "outputId": "225a7579-a3b6-4103-fc3c-b84b638cf54c"
      },
      "execution_count": null,
      "outputs": [
        {
          "output_type": "stream",
          "name": "stdout",
          "text": [
            "60 30\n",
            "x =  97.14267820683304 \n",
            " y =  32.1654635272765\n",
            "Góc t1 =  17.025356 \n",
            "Góc t2 =  -17.258072 \n",
            "Góc t3 =  62.411625\n"
          ]
        }
      ]
    }
  ]
}