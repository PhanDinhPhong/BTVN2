{
  "nbformat": 4,
  "nbformat_minor": 0,
  "metadata": {
    "colab": {
      "name": "btvn2_2",
      "provenance": [],
      "collapsed_sections": [],
      "authorship_tag": "ABX9TyO2mcyX3OV2SxY8m29dSUar",
      "include_colab_link": true
    },
    "kernelspec": {
      "name": "python3",
      "display_name": "Python 3"
    },
    "language_info": {
      "name": "python"
    },
    "accelerator": "GPU"
  },
  "cells": [
    {
      "cell_type": "markdown",
      "metadata": {
        "id": "view-in-github",
        "colab_type": "text"
      },
      "source": [
        "<a href=\"https://colab.research.google.com/github/PhanDinhPhong/BTVN2/blob/main/btvn2_2.ipynb\" target=\"_parent\"><img src=\"https://colab.research.google.com/assets/colab-badge.svg\" alt=\"Open In Colab\"/></a>"
      ]
    },
    {
      "cell_type": "code",
      "execution_count": null,
      "metadata": {
        "colab": {
          "base_uri": "https://localhost:8080/"
        },
        "id": "aGXqCLzOsXKU",
        "outputId": "c6e3216e-3049-44ad-c5bf-df16e6b49f3c"
      },
      "outputs": [
        {
          "output_type": "stream",
          "name": "stdout",
          "text": [
            "Model: \"sequential\"\n",
            "_________________________________________________________________\n",
            " Layer (type)                Output Shape              Param #   \n",
            "=================================================================\n",
            " dense (Dense)               (None, 256)               768       \n",
            "                                                                 \n",
            " dense_1 (Dense)             (None, 256)               65792     \n",
            "                                                                 \n",
            " dense_2 (Dense)             (None, 64)                16448     \n",
            "                                                                 \n",
            " dense_3 (Dense)             (None, 32)                2080      \n",
            "                                                                 \n",
            " dense_4 (Dense)             (None, 2)                 66        \n",
            "                                                                 \n",
            "=================================================================\n",
            "Total params: 85,154\n",
            "Trainable params: 85,154\n",
            "Non-trainable params: 0\n",
            "_________________________________________________________________\n"
          ]
        }
      ],
      "source": [
        "from keras.models import Sequential\n",
        "from sklearn.preprocessing import scale\n",
        "from sklearn.preprocessing import StandardScaler\n",
        "from tensorflow.keras import datasets, layers, models\n",
        "from tensorflow.keras.optimizers import Adam, RMSprop\n",
        "from keras.layers import Dense, Activation, Dropout,Flatten\n",
        "from sklearn.utils import shuffle\n",
        "import cv2\n",
        "import math\n",
        "import csv\n",
        "import pickle\n",
        "import sklearn\n",
        "import numpy as np\n",
        "import pandas as pd\n",
        "import tensorflow as tf\n",
        "from tensorflow import keras\n",
        "import matplotlib.pyplot as plt\n",
        "from keras.utils import np_utils\n",
        "from tensorflow.keras.utils import to_categorical \n",
        "from sklearn.linear_model import Perceptron\n",
        "from sklearn.model_selection import train_test_split\n",
        "from sklearn.metrics import accuracy_score\n",
        "\n",
        "l1 = 50\n",
        "l2 = 40\n",
        "z = []\n",
        "for t1 in range(0, 180, 2):\n",
        "  for t2 in range(0, 180, 2):\n",
        "    x = l1*math.cos(math.radians(t1)) + l2*math.cos(math.radians(t1+t2))\n",
        "    y = l1*math.sin(math.radians(t1)) + l2*math.sin(math.radians(t1+t2))\n",
        "    z.append(np.array((t1,t2,x,y)))\n",
        "    label = ['theta1', 'theta2', 'x', 'y']\n",
        "with open('robot2bac.csv', 'w', encoding='UTF8', newline='') as f:\n",
        "    writer = csv.writer(f)\n",
        "    writer.writerow(label)\n",
        "    writer.writerows(z)\n",
        "\n",
        "data = pd.read_csv('robot2bac.csv')\n",
        "data.shape\n",
        "numpy_dataset = data.values\n",
        "y=numpy_dataset[:,:2]\n",
        "x=numpy_dataset[:,2:]\n",
        "x_train,x_test,y_train,y_test= train_test_split(x, y, test_size = 0.2)\n",
        "\n",
        "model = Sequential() \n",
        "model.add(Dense(256, activation='relu', input_shape = (2,))) \n",
        "model.add(Dense(256, activation='relu'))\n",
        "model.add(Dense(64, activation='relu'))\n",
        "model.add(Dense(32, activation='relu'))\n",
        "model.add(Dense(2))\n",
        "model.summary()"
      ]
    },
    {
      "cell_type": "code",
      "source": [
        "model.compile(loss = 'mse', optimizer =Adam(), metrics  = ['accuracy'])\n",
        "history = model.fit(x_train, y_train, batch_size= 64, epochs = 30, validation_split = 0.2)"
      ],
      "metadata": {
        "colab": {
          "base_uri": "https://localhost:8080/"
        },
        "id": "rw8yNKBEwjuZ",
        "outputId": "deb3b888-841d-4e13-9233-58272cf93558"
      },
      "execution_count": null,
      "outputs": [
        {
          "output_type": "stream",
          "name": "stdout",
          "text": [
            "Epoch 1/30\n",
            "81/81 [==============================] - 6s 10ms/step - loss: 4625.8828 - accuracy: 0.6238 - val_loss: 3923.6450 - val_accuracy: 0.6682\n",
            "Epoch 2/30\n",
            "81/81 [==============================] - 0s 5ms/step - loss: 3710.5667 - accuracy: 0.6532 - val_loss: 3776.6135 - val_accuracy: 0.6690\n",
            "Epoch 3/30\n",
            "81/81 [==============================] - 0s 4ms/step - loss: 3522.4861 - accuracy: 0.6605 - val_loss: 3443.0347 - val_accuracy: 0.6798\n",
            "Epoch 4/30\n",
            "81/81 [==============================] - 0s 5ms/step - loss: 2148.2224 - accuracy: 0.7514 - val_loss: 435.7587 - val_accuracy: 0.8673\n",
            "Epoch 5/30\n",
            "81/81 [==============================] - 0s 6ms/step - loss: 274.8098 - accuracy: 0.8918 - val_loss: 182.1648 - val_accuracy: 0.8850\n",
            "Epoch 6/30\n",
            "81/81 [==============================] - 0s 5ms/step - loss: 124.5711 - accuracy: 0.9211 - val_loss: 75.7539 - val_accuracy: 0.9244\n",
            "Epoch 7/30\n",
            "81/81 [==============================] - 0s 5ms/step - loss: 77.7379 - accuracy: 0.9392 - val_loss: 57.4765 - val_accuracy: 0.9452\n",
            "Epoch 8/30\n",
            "81/81 [==============================] - 0s 4ms/step - loss: 56.8569 - accuracy: 0.9487 - val_loss: 58.7113 - val_accuracy: 0.9421\n",
            "Epoch 9/30\n",
            "81/81 [==============================] - 0s 3ms/step - loss: 43.1170 - accuracy: 0.9551 - val_loss: 33.9734 - val_accuracy: 0.9645\n",
            "Epoch 10/30\n",
            "81/81 [==============================] - 0s 3ms/step - loss: 45.9782 - accuracy: 0.9570 - val_loss: 69.0838 - val_accuracy: 0.9498\n",
            "Epoch 11/30\n",
            "81/81 [==============================] - 0s 3ms/step - loss: 37.8532 - accuracy: 0.9599 - val_loss: 24.5031 - val_accuracy: 0.9599\n",
            "Epoch 12/30\n",
            "81/81 [==============================] - 0s 3ms/step - loss: 47.5605 - accuracy: 0.9547 - val_loss: 23.2353 - val_accuracy: 0.9660\n",
            "Epoch 13/30\n",
            "81/81 [==============================] - 0s 3ms/step - loss: 27.5066 - accuracy: 0.9672 - val_loss: 30.0413 - val_accuracy: 0.9622\n",
            "Epoch 14/30\n",
            "81/81 [==============================] - 0s 3ms/step - loss: 32.8469 - accuracy: 0.9624 - val_loss: 18.5620 - val_accuracy: 0.9738\n",
            "Epoch 15/30\n",
            "81/81 [==============================] - 0s 3ms/step - loss: 23.8232 - accuracy: 0.9676 - val_loss: 14.8090 - val_accuracy: 0.9715\n",
            "Epoch 16/30\n",
            "81/81 [==============================] - 0s 3ms/step - loss: 21.5636 - accuracy: 0.9709 - val_loss: 18.0929 - val_accuracy: 0.9676\n",
            "Epoch 17/30\n",
            "81/81 [==============================] - 0s 3ms/step - loss: 33.8456 - accuracy: 0.9662 - val_loss: 26.3744 - val_accuracy: 0.9568\n",
            "Epoch 18/30\n",
            "81/81 [==============================] - 0s 3ms/step - loss: 25.7025 - accuracy: 0.9684 - val_loss: 32.7182 - val_accuracy: 0.9753\n",
            "Epoch 19/30\n",
            "81/81 [==============================] - 0s 3ms/step - loss: 22.2641 - accuracy: 0.9720 - val_loss: 13.0334 - val_accuracy: 0.9769\n",
            "Epoch 20/30\n",
            "81/81 [==============================] - 0s 3ms/step - loss: 19.0701 - accuracy: 0.9711 - val_loss: 17.2374 - val_accuracy: 0.9684\n",
            "Epoch 21/30\n",
            "81/81 [==============================] - 0s 3ms/step - loss: 32.3685 - accuracy: 0.9668 - val_loss: 13.8543 - val_accuracy: 0.9699\n",
            "Epoch 22/30\n",
            "81/81 [==============================] - 0s 3ms/step - loss: 16.4980 - accuracy: 0.9740 - val_loss: 8.6538 - val_accuracy: 0.9823\n",
            "Epoch 23/30\n",
            "81/81 [==============================] - 0s 3ms/step - loss: 53.4262 - accuracy: 0.9603 - val_loss: 14.1354 - val_accuracy: 0.9776\n",
            "Epoch 24/30\n",
            "81/81 [==============================] - 0s 3ms/step - loss: 19.3347 - accuracy: 0.9716 - val_loss: 14.5217 - val_accuracy: 0.9745\n",
            "Epoch 25/30\n",
            "81/81 [==============================] - 0s 3ms/step - loss: 26.9451 - accuracy: 0.9686 - val_loss: 51.4139 - val_accuracy: 0.9383\n",
            "Epoch 26/30\n",
            "81/81 [==============================] - 0s 3ms/step - loss: 33.9231 - accuracy: 0.9664 - val_loss: 27.9146 - val_accuracy: 0.9684\n",
            "Epoch 27/30\n",
            "81/81 [==============================] - 0s 3ms/step - loss: 26.3055 - accuracy: 0.9736 - val_loss: 15.6094 - val_accuracy: 0.9769\n",
            "Epoch 28/30\n",
            "81/81 [==============================] - 0s 3ms/step - loss: 21.3484 - accuracy: 0.9724 - val_loss: 9.8811 - val_accuracy: 0.9807\n",
            "Epoch 29/30\n",
            "81/81 [==============================] - 0s 3ms/step - loss: 20.3762 - accuracy: 0.9769 - val_loss: 9.8276 - val_accuracy: 0.9807\n",
            "Epoch 30/30\n",
            "81/81 [==============================] - 0s 3ms/step - loss: 27.9223 - accuracy: 0.9697 - val_loss: 25.6490 - val_accuracy: 0.9715\n"
          ]
        }
      ]
    },
    {
      "cell_type": "code",
      "source": [
        "pd.DataFrame(history.history).plot(figsize = (8,5))\n",
        "plt.grid(True)\n",
        "plt.gca().set_ylim(0,1)\n",
        "plt.show()\n",
        "plt.plot(history.history['accuracy'])\n",
        "plt.plot(history.history['val_accuracy'])\n",
        "plt.title('model accuracy')\n",
        "plt.ylabel('accuracy')\n",
        "plt.xlabel('epoch')\n",
        "plt.legend(['train', ' validation'])\n",
        "plt.show()"
      ],
      "metadata": {
        "colab": {
          "base_uri": "https://localhost:8080/",
          "height": 602
        },
        "id": "18fz6QBMwwFq",
        "outputId": "b59debd7-dbc4-4f4f-e6b7-118fbaa61044"
      },
      "execution_count": null,
      "outputs": [
        {
          "output_type": "display_data",
          "data": {
            "text/plain": [
              "<Figure size 576x360 with 1 Axes>"
            ],
            "image/png": "[encoded data removed]"
          },
          "metadata": {
            "needs_background": "light"
          }
        },
        {
          "output_type": "display_data",
          "data": {
            "text/plain": [
              "<Figure size 432x288 with 1 Axes>"
            ],
            "image/png": "[encoded data removed]"
          },
          "metadata": {
            "needs_background": "light"
          }
        }
      ]
    },
    {
      "cell_type": "code",
      "source": [
        "Px_testtrain = 60\n",
        "Py_testtrain = 30\n",
        "print(Px_testtrain,Py_testtrain)\n",
        "ktra = model.predict([[Px_testtrain,Py_testtrain]])\n",
        "t1 = ktra[0][0]\n",
        "t2 = ktra[0][1]\n",
        "X = l1*math.cos(math.radians(t1))+l2*math.cos(math.radians(t1+t2))\n",
        "Y = l1*math.sin(math.radians(t1))+l2*math.sin(math.radians(t1+t2))\n",
        "print('x = ',X,'\\n y = ',Y)\n",
        "print('Góc t1 = ', t1,'\\n Góc t2 = ', t2)"
      ],
      "metadata": {
        "colab": {
          "base_uri": "https://localhost:8080/"
        },
        "id": "Df2qekOwxCCW",
        "outputId": "f96f4796-41f0-4931-84c9-c1c192d957a6"
      },
      "execution_count": null,
      "outputs": [
        {
          "output_type": "stream",
          "name": "stdout",
          "text": [
            "60 30\n",
            "x =  62.59322150927673 \n",
            " y =  36.587887172276794\n",
            "Góc t1 =  -1.572142 \n",
            " Góc t2 =  73.19315\n"
          ]
        }
      ]
    }
  ]
}